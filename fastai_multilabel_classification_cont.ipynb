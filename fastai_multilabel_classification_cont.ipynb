{
 "cells": [
  {
   "cell_type": "code",
   "execution_count": 1,
   "metadata": {},
   "outputs": [],
   "source": [
    "%reload_ext autoreload\n",
    "%autoreload 2\n",
    "%matplotlib inline\n",
    "\n",
    "from fastai.vision import *\n",
    "from fastai.metrics import error_rate\n",
    "import os "
   ]
  },
  {
   "cell_type": "code",
   "execution_count": 2,
   "metadata": {},
   "outputs": [],
   "source": [
    "batch_size = 128\n",
    "\n",
    "data_dir = os.path.join('/mnt', 'disks', 'disk-1', 'data')\n",
    "csv_dir = os.path.join('data', 'CSVs')\n",
    "models_dir = os.path.join(data_dir, 'models')\n",
    "csv_path = {\n",
    "    'train': os.path.join(csv_dir, 'tiles_train.csv'),\n",
    "    'validation': os.path.join(csv_dir, 'tiles_validation.csv'),\n",
    "    'test': os.path.join(csv_dir, 'tiles_test.csv'),\n",
    "}\n",
    "\n",
    "img_path = os.path.join(data_dir,\n",
    "                        'tiles')\n",
    "\n",
    "img_path_test = os.path.join(data_dir,\n",
    "                        'tiles', 'tiles')\n",
    "image_classes = ['cored', 'diffuse', 'CAA']"
   ]
  },
  {
   "cell_type": "code",
   "execution_count": 3,
   "metadata": {},
   "outputs": [
    {
     "name": "stdout",
     "output_type": "stream",
     "text": [
      "loading tiles_train\n",
      "(155239, 8)\n"
     ]
    },
    {
     "data": {
      "text/html": [
       "<div>\n",
       "<style scoped>\n",
       "    .dataframe tbody tr th:only-of-type {\n",
       "        vertical-align: middle;\n",
       "    }\n",
       "\n",
       "    .dataframe tbody tr th {\n",
       "        vertical-align: top;\n",
       "    }\n",
       "\n",
       "    .dataframe thead th {\n",
       "        text-align: right;\n",
       "    }\n",
       "</style>\n",
       "<table border=\"1\" class=\"dataframe\">\n",
       "  <thead>\n",
       "    <tr style=\"text-align: right;\">\n",
       "      <th></th>\n",
       "      <th>id</th>\n",
       "      <th>imagename</th>\n",
       "      <th>cored</th>\n",
       "      <th>diffuse</th>\n",
       "      <th>CAA</th>\n",
       "      <th>negative</th>\n",
       "      <th>flag</th>\n",
       "      <th>notsure</th>\n",
       "    </tr>\n",
       "  </thead>\n",
       "  <tbody>\n",
       "    <tr>\n",
       "      <th>0</th>\n",
       "      <td>10748</td>\n",
       "      <td>NA4757-02_AB/NA4757-02_AB_18_25_61.jpg</td>\n",
       "      <td>1.0</td>\n",
       "      <td>0.000000</td>\n",
       "      <td>0.0</td>\n",
       "      <td>0.0</td>\n",
       "      <td>0.0</td>\n",
       "      <td>0.0</td>\n",
       "    </tr>\n",
       "    <tr>\n",
       "      <th>1</th>\n",
       "      <td>29503</td>\n",
       "      <td>NA4918-02_AB17-24/NA4918-02_AB17-24_9_18_12.jpg</td>\n",
       "      <td>0.0</td>\n",
       "      <td>2.832462</td>\n",
       "      <td>0.0</td>\n",
       "      <td>0.0</td>\n",
       "      <td>0.0</td>\n",
       "      <td>0.0</td>\n",
       "    </tr>\n",
       "  </tbody>\n",
       "</table>\n",
       "</div>"
      ],
      "text/plain": [
       "      id                                        imagename  cored   diffuse  \\\n",
       "0  10748           NA4757-02_AB/NA4757-02_AB_18_25_61.jpg    1.0  0.000000   \n",
       "1  29503  NA4918-02_AB17-24/NA4918-02_AB17-24_9_18_12.jpg    0.0  2.832462   \n",
       "\n",
       "   CAA  negative  flag  notsure  \n",
       "0  0.0       0.0   0.0      0.0  \n",
       "1  0.0       0.0   0.0      0.0  "
      ]
     },
     "metadata": {},
     "output_type": "display_data"
    },
    {
     "name": "stdout",
     "output_type": "stream",
     "text": [
      "loading tiles_validation\n",
      "(8630, 8)\n"
     ]
    },
    {
     "data": {
      "text/html": [
       "<div>\n",
       "<style scoped>\n",
       "    .dataframe tbody tr th:only-of-type {\n",
       "        vertical-align: middle;\n",
       "    }\n",
       "\n",
       "    .dataframe tbody tr th {\n",
       "        vertical-align: top;\n",
       "    }\n",
       "\n",
       "    .dataframe thead th {\n",
       "        text-align: right;\n",
       "    }\n",
       "</style>\n",
       "<table border=\"1\" class=\"dataframe\">\n",
       "  <thead>\n",
       "    <tr style=\"text-align: right;\">\n",
       "      <th></th>\n",
       "      <th>id</th>\n",
       "      <th>imagename</th>\n",
       "      <th>cored</th>\n",
       "      <th>diffuse</th>\n",
       "      <th>CAA</th>\n",
       "      <th>negative</th>\n",
       "      <th>flag</th>\n",
       "      <th>notsure</th>\n",
       "    </tr>\n",
       "  </thead>\n",
       "  <tbody>\n",
       "    <tr>\n",
       "      <th>0</th>\n",
       "      <td>0</td>\n",
       "      <td>NA_4896_02_AB17-24/neg_NA_4896_02_AB17-24_0_10...</td>\n",
       "      <td>0.0</td>\n",
       "      <td>0.0</td>\n",
       "      <td>0.0</td>\n",
       "      <td>1.0</td>\n",
       "      <td>0.0</td>\n",
       "      <td>0.0</td>\n",
       "    </tr>\n",
       "    <tr>\n",
       "      <th>1</th>\n",
       "      <td>0</td>\n",
       "      <td>NA_4896_02_AB17-24/neg_NA_4896_02_AB17-24_0_18...</td>\n",
       "      <td>0.0</td>\n",
       "      <td>0.0</td>\n",
       "      <td>0.0</td>\n",
       "      <td>1.0</td>\n",
       "      <td>0.0</td>\n",
       "      <td>0.0</td>\n",
       "    </tr>\n",
       "  </tbody>\n",
       "</table>\n",
       "</div>"
      ],
      "text/plain": [
       "   id                                          imagename  cored  diffuse  CAA  \\\n",
       "0   0  NA_4896_02_AB17-24/neg_NA_4896_02_AB17-24_0_10...    0.0      0.0  0.0   \n",
       "1   0  NA_4896_02_AB17-24/neg_NA_4896_02_AB17-24_0_18...    0.0      0.0  0.0   \n",
       "\n",
       "   negative  flag  notsure  \n",
       "0       1.0   0.0      0.0  \n",
       "1       1.0   0.0      0.0  "
      ]
     },
     "metadata": {},
     "output_type": "display_data"
    },
    {
     "name": "stdout",
     "output_type": "stream",
     "text": [
      "loading tiles_test\n",
      "(10873, 8)\n"
     ]
    },
    {
     "data": {
      "text/html": [
       "<div>\n",
       "<style scoped>\n",
       "    .dataframe tbody tr th:only-of-type {\n",
       "        vertical-align: middle;\n",
       "    }\n",
       "\n",
       "    .dataframe tbody tr th {\n",
       "        vertical-align: top;\n",
       "    }\n",
       "\n",
       "    .dataframe thead th {\n",
       "        text-align: right;\n",
       "    }\n",
       "</style>\n",
       "<table border=\"1\" class=\"dataframe\">\n",
       "  <thead>\n",
       "    <tr style=\"text-align: right;\">\n",
       "      <th></th>\n",
       "      <th>id</th>\n",
       "      <th>imagename</th>\n",
       "      <th>cored</th>\n",
       "      <th>diffuse</th>\n",
       "      <th>CAA</th>\n",
       "      <th>negative</th>\n",
       "      <th>flag</th>\n",
       "      <th>notsure</th>\n",
       "    </tr>\n",
       "  </thead>\n",
       "  <tbody>\n",
       "    <tr>\n",
       "      <th>0</th>\n",
       "      <td>14</td>\n",
       "      <td>NA4053-02_AB/NA4053-02_AB_18_18.jpg_0.jpg</td>\n",
       "      <td>0.0</td>\n",
       "      <td>3.003472</td>\n",
       "      <td>0.0</td>\n",
       "      <td>0.0</td>\n",
       "      <td>0.28125</td>\n",
       "      <td>1.0</td>\n",
       "    </tr>\n",
       "    <tr>\n",
       "      <th>1</th>\n",
       "      <td>15</td>\n",
       "      <td>NA4053-02_AB/NA4053-02_AB_18_18.jpg_1.jpg</td>\n",
       "      <td>0.0</td>\n",
       "      <td>5.214052</td>\n",
       "      <td>0.0</td>\n",
       "      <td>0.0</td>\n",
       "      <td>2.00000</td>\n",
       "      <td>1.0</td>\n",
       "    </tr>\n",
       "  </tbody>\n",
       "</table>\n",
       "</div>"
      ],
      "text/plain": [
       "   id                                  imagename  cored   diffuse  CAA  \\\n",
       "0  14  NA4053-02_AB/NA4053-02_AB_18_18.jpg_0.jpg    0.0  3.003472  0.0   \n",
       "1  15  NA4053-02_AB/NA4053-02_AB_18_18.jpg_1.jpg    0.0  5.214052  0.0   \n",
       "\n",
       "   negative     flag  notsure  \n",
       "0       0.0  0.28125      1.0  \n",
       "1       0.0  2.00000      1.0  "
      ]
     },
     "metadata": {},
     "output_type": "display_data"
    }
   ],
   "source": [
    "current_module = sys.modules[__name__]\n",
    "csvs = ['tiles_train', 'tiles_validation', 'tiles_test']\n",
    "for csv in csvs:\n",
    "    print('loading {}'.format(csv))\n",
    "    df_name = csv\n",
    "    setattr(current_module,\n",
    "            df_name,\n",
    "            pd.read_csv(os.path.join('data', 'CSVs', '{}.csv'.format(csv))))\n",
    "    df = getattr(current_module, df_name)\n",
    "    print(df.shape)\n",
    "    display(df.head(2))"
   ]
  },
  {
   "cell_type": "code",
   "execution_count": 4,
   "metadata": {},
   "outputs": [],
   "source": [
    "train_n_validation = pd.concat([tiles_train, tiles_validation])[['imagename'] + image_classes]  \n",
    "assert train_n_validation.shape[0] == (tiles_train.shape[0] + tiles_validation.shape[0])\n",
    "test = tiles_test[['imagename'] + image_classes].copy()"
   ]
  },
  {
   "cell_type": "code",
   "execution_count": 5,
   "metadata": {},
   "outputs": [],
   "source": [
    "threshold = .99\n",
    "for class_i in image_classes:\n",
    "    train_n_validation[class_i] = train_n_validation[class_i].map(lambda x: class_i if x > threshold else '')\n",
    "    test[class_i] = test[class_i].map(lambda x: class_i if x > threshold else '')\n",
    "    "
   ]
  },
  {
   "cell_type": "code",
   "execution_count": 6,
   "metadata": {},
   "outputs": [
    {
     "data": {
      "text/html": [
       "<div>\n",
       "<style scoped>\n",
       "    .dataframe tbody tr th:only-of-type {\n",
       "        vertical-align: middle;\n",
       "    }\n",
       "\n",
       "    .dataframe tbody tr th {\n",
       "        vertical-align: top;\n",
       "    }\n",
       "\n",
       "    .dataframe thead th {\n",
       "        text-align: right;\n",
       "    }\n",
       "</style>\n",
       "<table border=\"1\" class=\"dataframe\">\n",
       "  <thead>\n",
       "    <tr style=\"text-align: right;\">\n",
       "      <th></th>\n",
       "      <th>imagename</th>\n",
       "      <th>label</th>\n",
       "    </tr>\n",
       "  </thead>\n",
       "  <tbody>\n",
       "    <tr>\n",
       "      <th>0</th>\n",
       "      <td>NA4757-02_AB/NA4757-02_AB_18_25_61.jpg</td>\n",
       "      <td>cored</td>\n",
       "    </tr>\n",
       "    <tr>\n",
       "      <th>1</th>\n",
       "      <td>NA4918-02_AB17-24/NA4918-02_AB17-24_9_18_12.jpg</td>\n",
       "      <td>diffuse</td>\n",
       "    </tr>\n",
       "  </tbody>\n",
       "</table>\n",
       "</div>"
      ],
      "text/plain": [
       "                                         imagename    label\n",
       "0           NA4757-02_AB/NA4757-02_AB_18_25_61.jpg    cored\n",
       "1  NA4918-02_AB17-24/NA4918-02_AB17-24_9_18_12.jpg  diffuse"
      ]
     },
     "metadata": {},
     "output_type": "display_data"
    },
    {
     "data": {
      "text/html": [
       "<div>\n",
       "<style scoped>\n",
       "    .dataframe tbody tr th:only-of-type {\n",
       "        vertical-align: middle;\n",
       "    }\n",
       "\n",
       "    .dataframe tbody tr th {\n",
       "        vertical-align: top;\n",
       "    }\n",
       "\n",
       "    .dataframe thead th {\n",
       "        text-align: right;\n",
       "    }\n",
       "</style>\n",
       "<table border=\"1\" class=\"dataframe\">\n",
       "  <thead>\n",
       "    <tr style=\"text-align: right;\">\n",
       "      <th></th>\n",
       "      <th>imagename</th>\n",
       "      <th>label</th>\n",
       "    </tr>\n",
       "  </thead>\n",
       "  <tbody>\n",
       "    <tr>\n",
       "      <th>0</th>\n",
       "      <td>NA4053-02_AB/NA4053-02_AB_18_18.jpg_0.jpg</td>\n",
       "      <td>diffuse</td>\n",
       "    </tr>\n",
       "    <tr>\n",
       "      <th>1</th>\n",
       "      <td>NA4053-02_AB/NA4053-02_AB_18_18.jpg_1.jpg</td>\n",
       "      <td>diffuse</td>\n",
       "    </tr>\n",
       "  </tbody>\n",
       "</table>\n",
       "</div>"
      ],
      "text/plain": [
       "                                   imagename    label\n",
       "0  NA4053-02_AB/NA4053-02_AB_18_18.jpg_0.jpg  diffuse\n",
       "1  NA4053-02_AB/NA4053-02_AB_18_18.jpg_1.jpg  diffuse"
      ]
     },
     "metadata": {},
     "output_type": "display_data"
    }
   ],
   "source": [
    "def create_text_label(df,\n",
    "                       classes=[],\n",
    "                       label_col_name='label',\n",
    "                       negative_class_label='negative'):\n",
    "    \n",
    "    df[label_col_name] = df.apply(lambda row: ' '.join(filter(None,\n",
    "                                                               [row[class_i] for class_i in classes] \n",
    "                                                              )), axis=1)\n",
    "    \n",
    "    # remove whitespace and label absence of any classes as negative class\n",
    "    df[label_col_name] = df[label_col_name].map(lambda x: x.strip() if x.strip() else negative_class_label)\n",
    "    return(df)\n",
    "\n",
    "train_n_validation = create_text_label(train_n_validation, classes=image_classes)\n",
    "test = create_text_label(test, classes=image_classes)\n",
    "train_n_validation.drop(columns=image_classes, inplace=True)\n",
    "test.drop(columns=image_classes, inplace=True)\n",
    "display(train_n_validation.head(2))\n",
    "display(test.head(2))"
   ]
  },
  {
   "cell_type": "code",
   "execution_count": 7,
   "metadata": {},
   "outputs": [
    {
     "data": {
      "text/html": [
       "<iframe\n",
       "    scrolling=\"no\"\n",
       "    width=\"100%\"\n",
       "    height=\"545px\"\n",
       "    src=\"iframe_figures/figure_7.html\"\n",
       "    frameborder=\"0\"\n",
       "    allowfullscreen\n",
       "></iframe>\n"
      ]
     },
     "metadata": {},
     "output_type": "display_data"
    }
   ],
   "source": [
    "import plotly.graph_objects as go\n",
    "import plotly.io as pio\n",
    "pio.renderers.default = \"iframe\"\n",
    "\n",
    "fig = go.Figure()\n",
    "fig.add_trace(go.Histogram(x=train_n_validation['label'],\n",
    "                           histnorm='percent',\n",
    "                           name='train'))\n",
    "fig.add_trace(go.Histogram(x=test['label'],\n",
    "                           histnorm='percent',\n",
    "                           name='test'))\n",
    "\n",
    "# Overlay both histograms\n",
    "fig.update_layout(barmode='overlay')\n",
    "# Reduce opacity to see both histograms\n",
    "fig.update_traces(opacity=0.75)\n",
    "fig.show()"
   ]
  },
  {
   "cell_type": "code",
   "execution_count": 8,
   "metadata": {},
   "outputs": [],
   "source": [
    "tfms = get_transforms(flip_vert=True, max_lighting=0.1, max_zoom=1.05, max_warp=0.)"
   ]
  },
  {
   "cell_type": "code",
   "execution_count": 30,
   "metadata": {},
   "outputs": [],
   "source": [
    "np.random.seed(42)\n",
    "\n",
    "classes = set(train_n_validation.label.values).union(set(test.label.values))\n",
    "src = (ImageList.from_df(path=img_path, df=train_n_validation, folder='all')\n",
    "       .split_by_rand_pct(0.2)\n",
    "       .label_from_df(label_delim=' '))\n",
    "\n",
    "src_test = (ImageList.from_df(path=img_path_test, df=test, folder='hold-out')\n",
    "       .split_none()\n",
    "       .label_from_df(label_delim=' '))"
   ]
  },
  {
   "cell_type": "code",
   "execution_count": 31,
   "metadata": {},
   "outputs": [],
   "source": [
    "data = (src.transform(tfms, size=256)\n",
    "        .databunch().normalize(imagenet_stats))\n",
    "\n",
    "data_test = (src_test.transform(tfms, size=256)\n",
    "        .databunch().normalize(imagenet_stats))"
   ]
  },
  {
   "cell_type": "code",
   "execution_count": 32,
   "metadata": {},
   "outputs": [],
   "source": [
    "resnet50 = models.resnet50"
   ]
  },
  {
   "cell_type": "code",
   "execution_count": 33,
   "metadata": {},
   "outputs": [],
   "source": [
    "acc_05 = partial(accuracy_thresh, thresh=0.5)\n",
    "f_score = partial(fbeta, thresh=0.2)"
   ]
  },
  {
   "cell_type": "code",
   "execution_count": 34,
   "metadata": {},
   "outputs": [],
   "source": [
    "learn = cnn_learner(data, resnet50, metrics=[acc_05, f_score])"
   ]
  },
  {
   "cell_type": "code",
   "execution_count": 35,
   "metadata": {},
   "outputs": [],
   "source": [
    "model_name = 'stage-5-256-rn50'"
   ]
  },
  {
   "cell_type": "code",
   "execution_count": 36,
   "metadata": {},
   "outputs": [],
   "source": [
    "learn = learn.load(os.path.join(models_dir, model_name))"
   ]
  },
  {
   "cell_type": "code",
   "execution_count": 37,
   "metadata": {},
   "outputs": [
    {
     "data": {
      "text/html": [],
      "text/plain": [
       "<IPython.core.display.HTML object>"
      ]
     },
     "metadata": {},
     "output_type": "display_data"
    },
    {
     "name": "stdout",
     "output_type": "stream",
     "text": [
      "LR Finder is complete, type {learner_name}.recorder.plot() to see the graph.\n"
     ]
    },
    {
     "data": {
      "image/png": "[encoded data removed]",
      "text/plain": [
       "<Figure size 432x288 with 1 Axes>"
      ]
     },
     "metadata": {
      "needs_background": "light"
     },
     "output_type": "display_data"
    }
   ],
   "source": [
    "learn.lr_find()\n",
    "learn.recorder.plot()"
   ]
  },
  {
   "cell_type": "code",
   "execution_count": 43,
   "metadata": {},
   "outputs": [],
   "source": [
    "lr = 0.01"
   ]
  },
  {
   "cell_type": "code",
   "execution_count": 44,
   "metadata": {},
   "outputs": [
    {
     "data": {
      "text/html": [
       "<table border=\"1\" class=\"dataframe\">\n",
       "  <thead>\n",
       "    <tr style=\"text-align: left;\">\n",
       "      <th>epoch</th>\n",
       "      <th>train_loss</th>\n",
       "      <th>valid_loss</th>\n",
       "      <th>accuracy_thresh</th>\n",
       "      <th>fbeta</th>\n",
       "      <th>time</th>\n",
       "    </tr>\n",
       "  </thead>\n",
       "  <tbody>\n",
       "    <tr>\n",
       "      <td>0</td>\n",
       "      <td>0.068953</td>\n",
       "      <td>0.065470</td>\n",
       "      <td>0.978778</td>\n",
       "      <td>0.968655</td>\n",
       "      <td>20:36</td>\n",
       "    </tr>\n",
       "  </tbody>\n",
       "</table>"
      ],
      "text/plain": [
       "<IPython.core.display.HTML object>"
      ]
     },
     "metadata": {},
     "output_type": "display_data"
    }
   ],
   "source": [
    "learn.fit_one_cycle(1, slice(1e-5, lr/5))"
   ]
  },
  {
   "cell_type": "code",
   "execution_count": 46,
   "metadata": {},
   "outputs": [
    {
     "data": {
      "image/png": "[encoded data removed]",
      "text/plain": [
       "<Figure size 432x288 with 1 Axes>"
      ]
     },
     "metadata": {
      "needs_background": "light"
     },
     "output_type": "display_data"
    }
   ],
   "source": [
    "learn.recorder.plot_losses()"
   ]
  },
  {
   "cell_type": "code",
   "execution_count": 50,
   "metadata": {},
   "outputs": [],
   "source": [
    "learn.save(os.path.join(models_dir, 'stage-6-256-rn50'))\n",
    "learn.export(os.path.join(models_dir, 'stage-6-256-rn50-exported'))"
   ]
  },
  {
   "cell_type": "code",
   "execution_count": null,
   "metadata": {},
   "outputs": [
    {
     "data": {
      "text/html": [
       "\n",
       "    <div>\n",
       "        <style>\n",
       "            /* Turns off some styling */\n",
       "            progress {\n",
       "                /* gets rid of default border in Firefox and Opera. */\n",
       "                border: none;\n",
       "                /* Needs to be in here for Safari polyfill so background images work as expected. */\n",
       "                background-size: auto;\n",
       "            }\n",
       "            .progress-bar-interrupted, .progress-bar-interrupted::-webkit-progress-bar {\n",
       "                background: #F44336;\n",
       "            }\n",
       "        </style>\n",
       "      <progress value='1' class='' max='4', style='width:300px; height:20px; vertical-align: middle;'></progress>\n",
       "      25.00% [1/4 20:32<1:01:36]\n",
       "    </div>\n",
       "    \n",
       "<table border=\"1\" class=\"dataframe\">\n",
       "  <thead>\n",
       "    <tr style=\"text-align: left;\">\n",
       "      <th>epoch</th>\n",
       "      <th>train_loss</th>\n",
       "      <th>valid_loss</th>\n",
       "      <th>accuracy_thresh</th>\n",
       "      <th>fbeta</th>\n",
       "      <th>time</th>\n",
       "    </tr>\n",
       "  </thead>\n",
       "  <tbody>\n",
       "    <tr>\n",
       "      <td>0</td>\n",
       "      <td>0.070309</td>\n",
       "      <td>0.065457</td>\n",
       "      <td>0.979259</td>\n",
       "      <td>0.968116</td>\n",
       "      <td>20:32</td>\n",
       "    </tr>\n",
       "  </tbody>\n",
       "</table><p>\n",
       "\n",
       "    <div>\n",
       "        <style>\n",
       "            /* Turns off some styling */\n",
       "            progress {\n",
       "                /* gets rid of default border in Firefox and Opera. */\n",
       "                border: none;\n",
       "                /* Needs to be in here for Safari polyfill so background images work as expected. */\n",
       "                background-size: auto;\n",
       "            }\n",
       "            .progress-bar-interrupted, .progress-bar-interrupted::-webkit-progress-bar {\n",
       "                background: #F44336;\n",
       "            }\n",
       "        </style>\n",
       "      <progress value='787' class='' max='2048', style='width:300px; height:20px; vertical-align: middle;'></progress>\n",
       "      38.43% [787/2048 08:36<13:48 0.0656]\n",
       "    </div>\n",
       "    "
      ],
      "text/plain": [
       "<IPython.core.display.HTML object>"
      ]
     },
     "metadata": {},
     "output_type": "display_data"
    }
   ],
   "source": [
    "learn.fit_one_cycle(4, slice(1e-5, lr/5))"
   ]
  },
  {
   "cell_type": "code",
   "execution_count": null,
   "metadata": {},
   "outputs": [],
   "source": []
  }
 ],
 "metadata": {
  "kernelspec": {
   "display_name": "Python 3",
   "language": "python",
   "name": "python3"
  },
  "language_info": {
   "codemirror_mode": {
    "name": "ipython",
    "version": 3
   },
   "file_extension": ".py",
   "mimetype": "text/x-python",
   "name": "python",
   "nbconvert_exporter": "python",
   "pygments_lexer": "ipython3",
   "version": "3.7.4"
  }
 },
 "nbformat": 4,
 "nbformat_minor": 4
}
