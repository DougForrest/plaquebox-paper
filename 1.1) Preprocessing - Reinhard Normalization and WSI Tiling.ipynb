{
 "cells": [
  {
   "cell_type": "markdown",
   "metadata": {},
   "source": [
    "### 1.1 Preprocessing - Reinhard Normalization and WSI Tiling\n",
    "\n",
    "As a first preprocessing step, all slides were color normalized with respect to a reference image selected by an expert neuropathologist. Color normalization was performed using the method described by [Reinhard et. al](https://ieeexplore.ieee.org/document/946629).\n",
    "\n",
    "The resulting color normalized whole slide images were tiled using PyVips to generate 1536 x 1536 images patches."
   ]
  },
  {
   "cell_type": "code",
   "execution_count": 15,
   "metadata": {},
   "outputs": [],
   "source": [
    "import os\n",
    "import glob\n",
    "import numpy as np\n",
    "import cv2\n",
    "import matplotlib.pyplot as plt\n",
    "import pyvips as Vips\n",
    "from tqdm import tqdm\n",
    "\n",
    "import config as cfg\n",
    "from utils import vips_utils, normalize"
   ]
  },
  {
   "cell_type": "code",
   "execution_count": 16,
   "metadata": {},
   "outputs": [],
   "source": [
    "TRAIN_WSI_DIR = os.path.join(cfg.data_dir ,'Dataset 1a Development_train')              # WSIs in the training set\n",
    "VAL_WSI_DIR = os.path.join(cfg.data_dir ,'Dataset 1b Development_validation')           # WSIs in the validation set\n",
    "\n",
    "SAVE_DIR = os.path.join(cfg.data_dir ,'norm_tiles')"
   ]
  },
  {
   "cell_type": "code",
   "execution_count": 17,
   "metadata": {},
   "outputs": [],
   "source": [
    "if not os.path.exists(SAVE_DIR):\n",
    "        os.makedirs(SAVE_DIR)"
   ]
  },
  {
   "cell_type": "code",
   "execution_count": 18,
   "metadata": {},
   "outputs": [],
   "source": [
    "ref_imagename = 'NA5002_2AB.svs'"
   ]
  },
  {
   "cell_type": "code",
   "execution_count": 19,
   "metadata": {},
   "outputs": [
    {
     "name": "stdout",
     "output_type": "stream",
     "text": [
      "['NA4229-02_AB.svs', 'NA5001_2AB.svs', 'NA4749-02_AB.svs', 'NA_4865_02_AB1-40.svs', 'NA_4871_02_AB.svs', 'NA5005-02_AB.svs', 'NA5003_2AB.svs', 'NA4312-02_AB.svs', 'NA4757-02_AB.svs', 'NA4471-02_AB.svs', 'NA4751-02_AB.svs', 'NA4185-02_AB.svs', 'NA4898-02_AB17-24.svs', 'NA4711-02_AB.svs', 'NA4885-02_AB17-24.svs', 'NA4137-02_AB.svs', 'NA4722-02_AB.svs', 'NA5002_2AB.svs', 'NA4072-02_AB.svs', 'NA_4882_02_AB.svs', 'NA5004_02_AB.svs', 'NA4144-02_AB.svs', 'NA_4883_02_AB.svs', 'NA4259-02_AB.svs', 'NA_4888_02_AB17-24.svs', 'NA4009-02_AB.svs', 'NA4918-02_AB17-24.svs', 'NA4619-02_AB.svs', 'NA4951-02_AB17-24.svs']\n"
     ]
    }
   ],
   "source": [
    "print(os.listdir(TRAIN_WSI_DIR))"
   ]
  },
  {
   "cell_type": "code",
   "execution_count": 20,
   "metadata": {},
   "outputs": [],
   "source": [
    "wsi_train = os.listdir(TRAIN_WSI_DIR)\n",
    "wsi_val = os.listdir(VAL_WSI_DIR)\n",
    "\n",
    "imagenames = sorted(wsi_val + wsi_train)\n",
    "imagenames.remove('NA5005-02_AB.svs')             # this WSI was digitalized at 40x, need resize down to 20x\n",
    "imagenames.append('NA5005-02_AB.svs')"
   ]
  },
  {
   "cell_type": "code",
   "execution_count": 21,
   "metadata": {},
   "outputs": [
    {
     "name": "stdout",
     "output_type": "stream",
     "text": [
      "CPU times: user 53min 3s, sys: 41.4 s, total: 53min 44s\n",
      "Wall time: 8min 6s\n"
     ]
    }
   ],
   "source": [
    "%%time\n",
    "# Load reference image, fit Reinhard normalizer\n",
    "ref_image = Vips.Image.new_from_file(os.path.join(TRAIN_WSI_DIR, ref_imagename), level=0)\n",
    "\n",
    "normalizer = normalize.Reinhard()\n",
    "normalizer.fit(ref_image)"
   ]
  },
  {
   "cell_type": "code",
   "execution_count": null,
   "metadata": {},
   "outputs": [
    {
     "name": "stderr",
     "output_type": "stream",
     "text": [
      "  9%|▉         | 3/32 [43:09<6:39:01, 825.56s/it]"
     ]
    }
   ],
   "source": [
    "stats_dict = {}\n",
    "for imagename in tqdm(imagenames[:-1]):\n",
    "    try:\n",
    "        vips_img = Vips.Image.new_from_file(os.path.join(TRAIN_WSI_DIR, imagename), level=0)\n",
    "    except:\n",
    "        print('Exception {}'.format(imagename))\n",
    "        vips_img = Vips.Image.new_from_file(os.path.join(VAL_WSI_DIR, imagename), level=0)\n",
    "    out = normalizer.transform(vips_img)\n",
    "    out.filename = vips_img.filename\n",
    "    vips_utils.save_and_tile(out, SAVE_DIR)\n",
    "    stats_dict[imagename] = normalizer.image_stats"
   ]
  },
  {
   "cell_type": "code",
   "execution_count": null,
   "metadata": {},
   "outputs": [],
   "source": [
    "# Resize the single 40x image down to 20x\n",
    "for imagename in tqdm(imagenames[-1:]):\n",
    "    vips_img = Vips.Image.new_from_file(os.path.join(TRAIN_WSI_DIR, imagename), level=0)\n",
    "    vips_img = vips_img.resize(0.5)\n",
    "    out = normalizer.transform(vips_img)\n",
    "    out.filename = vips_img.filename\n",
    "    vips_utils.save_and_tile(out, SAVE_DIR)\n",
    "    stats_dict[imagename] = normalizer.image_stats"
   ]
  },
  {
   "cell_type": "code",
   "execution_count": null,
   "metadata": {},
   "outputs": [],
   "source": [
    "import pandas as pd\n",
    "stats = pd.DataFrame(stats_dict)"
   ]
  },
  {
   "cell_type": "code",
   "execution_count": null,
   "metadata": {},
   "outputs": [],
   "source": [
    "stats = stats.transpose()"
   ]
  },
  {
   "cell_type": "code",
   "execution_count": null,
   "metadata": {},
   "outputs": [],
   "source": [
    "stats.columns = 'means', 'stds'"
   ]
  },
  {
   "cell_type": "code",
   "execution_count": null,
   "metadata": {},
   "outputs": [],
   "source": []
  }
 ],
 "metadata": {
  "kernelspec": {
   "display_name": "Python 3",
   "language": "python",
   "name": "python3"
  },
  "language_info": {
   "codemirror_mode": {
    "name": "ipython",
    "version": 3
   },
   "file_extension": ".py",
   "mimetype": "text/x-python",
   "name": "python",
   "nbconvert_exporter": "python",
   "pygments_lexer": "ipython3",
   "version": "3.7.4"
  }
 },
 "nbformat": 4,
 "nbformat_minor": 4
}
