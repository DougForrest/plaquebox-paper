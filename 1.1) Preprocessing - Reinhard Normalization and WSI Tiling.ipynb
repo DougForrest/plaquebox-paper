{
 "cells": [
  {
   "cell_type": "markdown",
   "metadata": {},
   "source": [
    "### 1.1 Preprocessing - Reinhard Normalization and WSI Tiling\n",
    "\n",
    "As a first preprocessing step, all slides were color normalized with respect to a reference image selected by an expert neuropathologist. Color normalization was performed using the method described by [Reinhard et. al](https://ieeexplore.ieee.org/document/946629).\n",
    "\n",
    "The resulting color normalized whole slide images were tiled using PyVips to generate 1536 x 1536 images patches."
   ]
  },
  {
   "cell_type": "code",
   "execution_count": 1,
   "metadata": {},
   "outputs": [],
   "source": [
    "import os\n",
    "import glob\n",
    "import numpy as np\n",
    "import cv2\n",
    "import matplotlib.pyplot as plt\n",
    "import pyvips as Vips\n",
    "from tqdm import tqdm\n",
    "\n",
    "import config as cfg\n",
    "from utils import vips_utils, normalize"
   ]
  },
  {
   "cell_type": "code",
   "execution_count": 2,
   "metadata": {},
   "outputs": [],
   "source": [
    "TRAIN_WSI_DIR = os.path.join(cfg.data_dir ,'Dataset 1a Development_train')              # WSIs in the training set\n",
    "VAL_WSI_DIR = os.path.join(cfg.data_dir ,'Dataset 1b Development_validation')           # WSIs in the validation set\n",
    "\n",
    "SAVE_DIR = os.path.join(cfg.data_dir ,'norm_tiles')"
   ]
  },
  {
   "cell_type": "code",
   "execution_count": 3,
   "metadata": {},
   "outputs": [],
   "source": [
    "if not os.path.exists(SAVE_DIR):\n",
    "        os.makedirs(SAVE_DIR)"
   ]
  },
  {
   "cell_type": "code",
   "execution_count": 4,
   "metadata": {},
   "outputs": [],
   "source": [
    "ref_imagename = 'NA5002_2AB.svs'"
   ]
  },
  {
   "cell_type": "code",
   "execution_count": 5,
   "metadata": {},
   "outputs": [
    {
     "name": "stdout",
     "output_type": "stream",
     "text": [
      "['NA4229-02_AB.svs', 'NA5001_2AB.svs', 'NA4749-02_AB.svs', 'NA_4865_02_AB1-40.svs', 'NA_4871_02_AB.svs', 'NA5005-02_AB.svs', 'NA5003_2AB.svs', 'NA4312-02_AB.svs', 'NA4757-02_AB.svs', 'NA4471-02_AB.svs', 'NA4751-02_AB.svs', 'NA4185-02_AB.svs', 'NA4898-02_AB17-24.svs', 'NA4711-02_AB.svs', 'NA4885-02_AB17-24.svs', 'NA4137-02_AB.svs', 'NA4722-02_AB.svs', 'NA5002_2AB.svs', 'NA4072-02_AB.svs', 'NA_4882_02_AB.svs', 'NA5004_02_AB.svs', 'NA4144-02_AB.svs', 'NA_4883_02_AB.svs', 'NA4259-02_AB.svs', 'NA_4888_02_AB17-24.svs', 'NA4009-02_AB.svs', 'NA4918-02_AB17-24.svs', 'NA4619-02_AB.svs', 'NA4951-02_AB17-24.svs']\n"
     ]
    }
   ],
   "source": [
    "print(os.listdir(TRAIN_WSI_DIR))"
   ]
  },
  {
   "cell_type": "code",
   "execution_count": 6,
   "metadata": {},
   "outputs": [],
   "source": [
    "wsi_train = os.listdir(TRAIN_WSI_DIR)\n",
    "wsi_val = os.listdir(VAL_WSI_DIR)\n",
    "\n",
    "imagenames = sorted(wsi_val + wsi_train)\n",
    "imagenames.remove('NA5005-02_AB.svs')             # this WSI was digitalized at 40x, need resize down to 20x\n",
    "imagenames.append('NA5005-02_AB.svs')"
   ]
  },
  {
   "cell_type": "code",
   "execution_count": 7,
   "metadata": {},
   "outputs": [
    {
     "name": "stdout",
     "output_type": "stream",
     "text": [
      "CPU times: user 48min 40s, sys: 1min, total: 49min 41s\n",
      "Wall time: 1min 24s\n"
     ]
    }
   ],
   "source": [
    "%%time\n",
    "# Load reference image, fit Reinhard normalizer\n",
    "ref_image = Vips.Image.new_from_file(os.path.join(TRAIN_WSI_DIR, ref_imagename), level=0)\n",
    "\n",
    "normalizer = normalize.Reinhard()\n",
    "normalizer.fit(ref_image)"
   ]
  },
  {
   "cell_type": "code",
   "execution_count": 8,
   "metadata": {},
   "outputs": [
    {
     "name": "stderr",
     "output_type": "stream",
     "text": [
      " 88%|████████▊ | 28/32 [59:25<08:42, 130.50s/it] "
     ]
    },
    {
     "name": "stdout",
     "output_type": "stream",
     "text": [
      "Exception NA_4896_02_AB17-24.svs\n"
     ]
    },
    {
     "name": "stderr",
     "output_type": "stream",
     "text": [
      " 91%|█████████ | 29/32 [1:01:44<06:39, 133.15s/it]"
     ]
    },
    {
     "name": "stdout",
     "output_type": "stream",
     "text": [
      "Exception NA_4928_02_AB17-24.svs\n"
     ]
    },
    {
     "name": "stderr",
     "output_type": "stream",
     "text": [
      " 94%|█████████▍| 30/32 [1:04:12<04:35, 137.53s/it]"
     ]
    },
    {
     "name": "stdout",
     "output_type": "stream",
     "text": [
      "Exception NA_4930_02_AB14-24.svs\n"
     ]
    },
    {
     "name": "stderr",
     "output_type": "stream",
     "text": [
      " 97%|█████████▋| 31/32 [1:06:12<02:12, 132.24s/it]"
     ]
    },
    {
     "name": "stdout",
     "output_type": "stream",
     "text": [
      "Exception NA_4933_02_AB17-24.svs\n"
     ]
    },
    {
     "name": "stderr",
     "output_type": "stream",
     "text": [
      "100%|██████████| 32/32 [1:07:57<00:00, 127.43s/it]\n"
     ]
    }
   ],
   "source": [
    "stats_dict = {}\n",
    "for imagename in tqdm(imagenames[:-1]):\n",
    "    try:\n",
    "        vips_img = Vips.Image.new_from_file(os.path.join(TRAIN_WSI_DIR, imagename), level=0)\n",
    "    except:\n",
    "        print('Exception {}'.format(imagename))\n",
    "        vips_img = Vips.Image.new_from_file(os.path.join(VAL_WSI_DIR, imagename), level=0)\n",
    "    out = normalizer.transform(vips_img)\n",
    "    out.filename = vips_img.filename\n",
    "    vips_utils.save_and_tile(out, SAVE_DIR)\n",
    "    stats_dict[imagename] = normalizer.image_stats"
   ]
  },
  {
   "cell_type": "code",
   "execution_count": 9,
   "metadata": {},
   "outputs": [
    {
     "name": "stderr",
     "output_type": "stream",
     "text": [
      "100%|██████████| 1/1 [04:52<00:00, 292.61s/it]\n"
     ]
    }
   ],
   "source": [
    "# Resize the single 40x image down to 20x\n",
    "for imagename in tqdm(imagenames[-1:]):\n",
    "    vips_img = Vips.Image.new_from_file(os.path.join(TRAIN_WSI_DIR, imagename), level=0)\n",
    "    vips_img = vips_img.resize(0.5)\n",
    "    out = normalizer.transform(vips_img)\n",
    "    out.filename = vips_img.filename\n",
    "    vips_utils.save_and_tile(out, SAVE_DIR)\n",
    "    stats_dict[imagename] = normalizer.image_stats"
   ]
  },
  {
   "cell_type": "code",
   "execution_count": 10,
   "metadata": {},
   "outputs": [],
   "source": [
    "import pandas as pd\n",
    "stats = pd.DataFrame(stats_dict)"
   ]
  },
  {
   "cell_type": "code",
   "execution_count": 11,
   "metadata": {},
   "outputs": [],
   "source": [
    "stats = stats.transpose()"
   ]
  },
  {
   "cell_type": "code",
   "execution_count": 12,
   "metadata": {},
   "outputs": [],
   "source": [
    "stats.columns = 'means', 'stds'"
   ]
  },
  {
   "cell_type": "code",
   "execution_count": 13,
   "metadata": {},
   "outputs": [
    {
     "data": {
      "text/html": [
       "<div>\n",
       "<style scoped>\n",
       "    .dataframe tbody tr th:only-of-type {\n",
       "        vertical-align: middle;\n",
       "    }\n",
       "\n",
       "    .dataframe tbody tr th {\n",
       "        vertical-align: top;\n",
       "    }\n",
       "\n",
       "    .dataframe thead th {\n",
       "        text-align: right;\n",
       "    }\n",
       "</style>\n",
       "<table border=\"1\" class=\"dataframe\">\n",
       "  <thead>\n",
       "    <tr style=\"text-align: right;\">\n",
       "      <th></th>\n",
       "      <th>means</th>\n",
       "      <th>stds</th>\n",
       "    </tr>\n",
       "  </thead>\n",
       "  <tbody>\n",
       "    <tr>\n",
       "      <th>NA4009-02_AB.svs</th>\n",
       "      <td>(88.79989640676122, 0.7796811779427335, 1.5307...</td>\n",
       "      <td>(13.309693197292201, 3.614022951491436, 5.6388...</td>\n",
       "    </tr>\n",
       "    <tr>\n",
       "      <th>NA4072-02_AB.svs</th>\n",
       "      <td>(85.45899856981691, 1.0290791360964993, -1.003...</td>\n",
       "      <td>(18.809617640025696, 3.386271428449547, 4.0524...</td>\n",
       "    </tr>\n",
       "    <tr>\n",
       "      <th>NA4137-02_AB.svs</th>\n",
       "      <td>(89.37619838926987, 1.1594221235255688, -1.090...</td>\n",
       "      <td>(9.656529501479323, 3.717221278802593, 4.60034...</td>\n",
       "    </tr>\n",
       "    <tr>\n",
       "      <th>NA4144-02_AB.svs</th>\n",
       "      <td>(87.65374174713389, 1.5541811566135384, -0.218...</td>\n",
       "      <td>(10.825812591988118, 4.0374352279298185, 6.132...</td>\n",
       "    </tr>\n",
       "    <tr>\n",
       "      <th>NA4185-02_AB.svs</th>\n",
       "      <td>(90.2536016711242, 0.7139148105981887, 0.49942...</td>\n",
       "      <td>(9.081633753173017, 3.532839740620599, 5.06540...</td>\n",
       "    </tr>\n",
       "    <tr>\n",
       "      <th>NA4229-02_AB.svs</th>\n",
       "      <td>(89.39547476784755, 0.4691240658320603, 1.1783...</td>\n",
       "      <td>(8.686648322680137, 3.555328175935113, 6.07685...</td>\n",
       "    </tr>\n",
       "    <tr>\n",
       "      <th>NA4259-02_AB.svs</th>\n",
       "      <td>(88.9692294878472, 0.6069457818993456, -0.0603...</td>\n",
       "      <td>(10.01264175613563, 3.5489507210693523, 5.4370...</td>\n",
       "    </tr>\n",
       "    <tr>\n",
       "      <th>NA4312-02_AB.svs</th>\n",
       "      <td>(91.08530689405714, 0.40543170409731627, 1.256...</td>\n",
       "      <td>(7.662059392580917, 2.3359701345727513, 4.3557...</td>\n",
       "    </tr>\n",
       "    <tr>\n",
       "      <th>NA4471-02_AB.svs</th>\n",
       "      <td>(91.11351936053985, 0.6167910832749283, 1.1381...</td>\n",
       "      <td>(7.327277629001215, 2.154893433506231, 3.47540...</td>\n",
       "    </tr>\n",
       "    <tr>\n",
       "      <th>NA4619-02_AB.svs</th>\n",
       "      <td>(87.36757718025666, 0.9721181358150474, -0.514...</td>\n",
       "      <td>(14.552723842003907, 3.4633622879807118, 5.078...</td>\n",
       "    </tr>\n",
       "    <tr>\n",
       "      <th>NA4711-02_AB.svs</th>\n",
       "      <td>(89.6404684962001, 0.6451883484879499, -0.0832...</td>\n",
       "      <td>(9.964676103255641, 3.2353780275499444, 4.5971...</td>\n",
       "    </tr>\n",
       "    <tr>\n",
       "      <th>NA4722-02_AB.svs</th>\n",
       "      <td>(85.88080946844129, 1.008984274389367, -1.1808...</td>\n",
       "      <td>(14.654658858780145, 3.6003415737939872, 4.869...</td>\n",
       "    </tr>\n",
       "    <tr>\n",
       "      <th>NA4749-02_AB.svs</th>\n",
       "      <td>(88.97125462741283, 0.6592604191487972, -1.206...</td>\n",
       "      <td>(10.316525806307412, 3.4468275551852328, 5.077...</td>\n",
       "    </tr>\n",
       "    <tr>\n",
       "      <th>NA4751-02_AB.svs</th>\n",
       "      <td>(88.14224914148996, 0.8531696834708011, -0.665...</td>\n",
       "      <td>(10.629483292656742, 3.694443540175889, 5.1967...</td>\n",
       "    </tr>\n",
       "    <tr>\n",
       "      <th>NA4757-02_AB.svs</th>\n",
       "      <td>(86.72437320301238, 1.211564795581824, -2.2776...</td>\n",
       "      <td>(10.327322587491464, 3.27535683026034, 4.97873...</td>\n",
       "    </tr>\n",
       "    <tr>\n",
       "      <th>NA4885-02_AB17-24.svs</th>\n",
       "      <td>(84.60527679833469, 2.563745689775946, -2.1354...</td>\n",
       "      <td>(12.718982607747515, 4.0354910540468145, 6.357...</td>\n",
       "    </tr>\n",
       "    <tr>\n",
       "      <th>NA4898-02_AB17-24.svs</th>\n",
       "      <td>(82.84260185684008, 4.054295772975247, -7.3721...</td>\n",
       "      <td>(11.79965704595571, 4.197382030250321, 7.19565...</td>\n",
       "    </tr>\n",
       "    <tr>\n",
       "      <th>NA4918-02_AB17-24.svs</th>\n",
       "      <td>(87.03289774118394, 2.2558273476095705, -1.415...</td>\n",
       "      <td>(11.974712764737074, 3.951343520182299, 6.9968...</td>\n",
       "    </tr>\n",
       "    <tr>\n",
       "      <th>NA4951-02_AB17-24.svs</th>\n",
       "      <td>(83.51360000888636, 3.4214139046266996, -2.114...</td>\n",
       "      <td>(15.218793893315327, 4.785351171627888, 8.0310...</td>\n",
       "    </tr>\n",
       "    <tr>\n",
       "      <th>NA5001_2AB.svs</th>\n",
       "      <td>(79.0144200461832, 4.149987741163046, 2.292715...</td>\n",
       "      <td>(17.011488002314, 4.767748964310853, 5.4580775...</td>\n",
       "    </tr>\n",
       "    <tr>\n",
       "      <th>NA5002_2AB.svs</th>\n",
       "      <td>(84.99204959630136, 2.8085441327410106, -3.967...</td>\n",
       "      <td>(12.7474712874323, 3.765301172910014, 5.594250...</td>\n",
       "    </tr>\n",
       "    <tr>\n",
       "      <th>NA5003_2AB.svs</th>\n",
       "      <td>(86.6677031375774, 2.6037064285463085, -3.3578...</td>\n",
       "      <td>(10.728729843350637, 3.3603827044615526, 4.672...</td>\n",
       "    </tr>\n",
       "    <tr>\n",
       "      <th>NA5004_02_AB.svs</th>\n",
       "      <td>(85.48064196415459, 2.56669874779006, -1.76211...</td>\n",
       "      <td>(12.724795988986797, 3.5984335814234236, 5.195...</td>\n",
       "    </tr>\n",
       "    <tr>\n",
       "      <th>NA_4865_02_AB1-40.svs</th>\n",
       "      <td>(87.86549784034223, 1.9767718460812314, -3.614...</td>\n",
       "      <td>(9.943273597476807, 3.1645526614207213, 5.0167...</td>\n",
       "    </tr>\n",
       "    <tr>\n",
       "      <th>NA_4871_02_AB.svs</th>\n",
       "      <td>(88.53937684687692, 1.7780762169509434, -3.961...</td>\n",
       "      <td>(8.698733367589531, 3.2781412583619813, 5.0116...</td>\n",
       "    </tr>\n",
       "    <tr>\n",
       "      <th>NA_4882_02_AB.svs</th>\n",
       "      <td>(90.17757852956134, 1.3437992297266295, -2.610...</td>\n",
       "      <td>(8.196469909818566, 3.0101444473588783, 4.6382...</td>\n",
       "    </tr>\n",
       "    <tr>\n",
       "      <th>NA_4883_02_AB.svs</th>\n",
       "      <td>(87.49364509151543, 2.2369764634457003, -4.381...</td>\n",
       "      <td>(12.18015806768131, 3.5928327140904504, 5.7110...</td>\n",
       "    </tr>\n",
       "    <tr>\n",
       "      <th>NA_4888_02_AB17-24.svs</th>\n",
       "      <td>(83.57563694340888, 2.4631349843259946, 0.4891...</td>\n",
       "      <td>(14.204001815127617, 4.3045697004282, 6.446861...</td>\n",
       "    </tr>\n",
       "    <tr>\n",
       "      <th>NA_4896_02_AB17-24.svs</th>\n",
       "      <td>(87.48766107608661, 2.2528362037973144, -1.903...</td>\n",
       "      <td>(11.072446496263094, 3.658511237538305, 5.7854...</td>\n",
       "    </tr>\n",
       "    <tr>\n",
       "      <th>NA_4928_02_AB17-24.svs</th>\n",
       "      <td>(83.240295113291, 4.001308431605811, -6.276126...</td>\n",
       "      <td>(14.338384758458279, 4.995151308815445, 8.2839...</td>\n",
       "    </tr>\n",
       "    <tr>\n",
       "      <th>NA_4930_02_AB14-24.svs</th>\n",
       "      <td>(87.35695618304679, 2.367790487078984, -3.2252...</td>\n",
       "      <td>(11.027307400328631, 3.695937120825218, 6.2322...</td>\n",
       "    </tr>\n",
       "    <tr>\n",
       "      <th>NA_4933_02_AB17-24.svs</th>\n",
       "      <td>(86.26452972170833, 2.7604108318163125, -4.918...</td>\n",
       "      <td>(12.074901808308574, 4.184626195017537, 6.7275...</td>\n",
       "    </tr>\n",
       "    <tr>\n",
       "      <th>NA5005-02_AB.svs</th>\n",
       "      <td>(82.83138534630105, 3.268315770290047, -2.6095...</td>\n",
       "      <td>(14.165728038225371, 3.7053361451106395, 4.790...</td>\n",
       "    </tr>\n",
       "  </tbody>\n",
       "</table>\n",
       "</div>"
      ],
      "text/plain": [
       "                                                                    means  \\\n",
       "NA4009-02_AB.svs        (88.79989640676122, 0.7796811779427335, 1.5307...   \n",
       "NA4072-02_AB.svs        (85.45899856981691, 1.0290791360964993, -1.003...   \n",
       "NA4137-02_AB.svs        (89.37619838926987, 1.1594221235255688, -1.090...   \n",
       "NA4144-02_AB.svs        (87.65374174713389, 1.5541811566135384, -0.218...   \n",
       "NA4185-02_AB.svs        (90.2536016711242, 0.7139148105981887, 0.49942...   \n",
       "NA4229-02_AB.svs        (89.39547476784755, 0.4691240658320603, 1.1783...   \n",
       "NA4259-02_AB.svs        (88.9692294878472, 0.6069457818993456, -0.0603...   \n",
       "NA4312-02_AB.svs        (91.08530689405714, 0.40543170409731627, 1.256...   \n",
       "NA4471-02_AB.svs        (91.11351936053985, 0.6167910832749283, 1.1381...   \n",
       "NA4619-02_AB.svs        (87.36757718025666, 0.9721181358150474, -0.514...   \n",
       "NA4711-02_AB.svs        (89.6404684962001, 0.6451883484879499, -0.0832...   \n",
       "NA4722-02_AB.svs        (85.88080946844129, 1.008984274389367, -1.1808...   \n",
       "NA4749-02_AB.svs        (88.97125462741283, 0.6592604191487972, -1.206...   \n",
       "NA4751-02_AB.svs        (88.14224914148996, 0.8531696834708011, -0.665...   \n",
       "NA4757-02_AB.svs        (86.72437320301238, 1.211564795581824, -2.2776...   \n",
       "NA4885-02_AB17-24.svs   (84.60527679833469, 2.563745689775946, -2.1354...   \n",
       "NA4898-02_AB17-24.svs   (82.84260185684008, 4.054295772975247, -7.3721...   \n",
       "NA4918-02_AB17-24.svs   (87.03289774118394, 2.2558273476095705, -1.415...   \n",
       "NA4951-02_AB17-24.svs   (83.51360000888636, 3.4214139046266996, -2.114...   \n",
       "NA5001_2AB.svs          (79.0144200461832, 4.149987741163046, 2.292715...   \n",
       "NA5002_2AB.svs          (84.99204959630136, 2.8085441327410106, -3.967...   \n",
       "NA5003_2AB.svs          (86.6677031375774, 2.6037064285463085, -3.3578...   \n",
       "NA5004_02_AB.svs        (85.48064196415459, 2.56669874779006, -1.76211...   \n",
       "NA_4865_02_AB1-40.svs   (87.86549784034223, 1.9767718460812314, -3.614...   \n",
       "NA_4871_02_AB.svs       (88.53937684687692, 1.7780762169509434, -3.961...   \n",
       "NA_4882_02_AB.svs       (90.17757852956134, 1.3437992297266295, -2.610...   \n",
       "NA_4883_02_AB.svs       (87.49364509151543, 2.2369764634457003, -4.381...   \n",
       "NA_4888_02_AB17-24.svs  (83.57563694340888, 2.4631349843259946, 0.4891...   \n",
       "NA_4896_02_AB17-24.svs  (87.48766107608661, 2.2528362037973144, -1.903...   \n",
       "NA_4928_02_AB17-24.svs  (83.240295113291, 4.001308431605811, -6.276126...   \n",
       "NA_4930_02_AB14-24.svs  (87.35695618304679, 2.367790487078984, -3.2252...   \n",
       "NA_4933_02_AB17-24.svs  (86.26452972170833, 2.7604108318163125, -4.918...   \n",
       "NA5005-02_AB.svs        (82.83138534630105, 3.268315770290047, -2.6095...   \n",
       "\n",
       "                                                                     stds  \n",
       "NA4009-02_AB.svs        (13.309693197292201, 3.614022951491436, 5.6388...  \n",
       "NA4072-02_AB.svs        (18.809617640025696, 3.386271428449547, 4.0524...  \n",
       "NA4137-02_AB.svs        (9.656529501479323, 3.717221278802593, 4.60034...  \n",
       "NA4144-02_AB.svs        (10.825812591988118, 4.0374352279298185, 6.132...  \n",
       "NA4185-02_AB.svs        (9.081633753173017, 3.532839740620599, 5.06540...  \n",
       "NA4229-02_AB.svs        (8.686648322680137, 3.555328175935113, 6.07685...  \n",
       "NA4259-02_AB.svs        (10.01264175613563, 3.5489507210693523, 5.4370...  \n",
       "NA4312-02_AB.svs        (7.662059392580917, 2.3359701345727513, 4.3557...  \n",
       "NA4471-02_AB.svs        (7.327277629001215, 2.154893433506231, 3.47540...  \n",
       "NA4619-02_AB.svs        (14.552723842003907, 3.4633622879807118, 5.078...  \n",
       "NA4711-02_AB.svs        (9.964676103255641, 3.2353780275499444, 4.5971...  \n",
       "NA4722-02_AB.svs        (14.654658858780145, 3.6003415737939872, 4.869...  \n",
       "NA4749-02_AB.svs        (10.316525806307412, 3.4468275551852328, 5.077...  \n",
       "NA4751-02_AB.svs        (10.629483292656742, 3.694443540175889, 5.1967...  \n",
       "NA4757-02_AB.svs        (10.327322587491464, 3.27535683026034, 4.97873...  \n",
       "NA4885-02_AB17-24.svs   (12.718982607747515, 4.0354910540468145, 6.357...  \n",
       "NA4898-02_AB17-24.svs   (11.79965704595571, 4.197382030250321, 7.19565...  \n",
       "NA4918-02_AB17-24.svs   (11.974712764737074, 3.951343520182299, 6.9968...  \n",
       "NA4951-02_AB17-24.svs   (15.218793893315327, 4.785351171627888, 8.0310...  \n",
       "NA5001_2AB.svs          (17.011488002314, 4.767748964310853, 5.4580775...  \n",
       "NA5002_2AB.svs          (12.7474712874323, 3.765301172910014, 5.594250...  \n",
       "NA5003_2AB.svs          (10.728729843350637, 3.3603827044615526, 4.672...  \n",
       "NA5004_02_AB.svs        (12.724795988986797, 3.5984335814234236, 5.195...  \n",
       "NA_4865_02_AB1-40.svs   (9.943273597476807, 3.1645526614207213, 5.0167...  \n",
       "NA_4871_02_AB.svs       (8.698733367589531, 3.2781412583619813, 5.0116...  \n",
       "NA_4882_02_AB.svs       (8.196469909818566, 3.0101444473588783, 4.6382...  \n",
       "NA_4883_02_AB.svs       (12.18015806768131, 3.5928327140904504, 5.7110...  \n",
       "NA_4888_02_AB17-24.svs  (14.204001815127617, 4.3045697004282, 6.446861...  \n",
       "NA_4896_02_AB17-24.svs  (11.072446496263094, 3.658511237538305, 5.7854...  \n",
       "NA_4928_02_AB17-24.svs  (14.338384758458279, 4.995151308815445, 8.2839...  \n",
       "NA_4930_02_AB14-24.svs  (11.027307400328631, 3.695937120825218, 6.2322...  \n",
       "NA_4933_02_AB17-24.svs  (12.074901808308574, 4.184626195017537, 6.7275...  \n",
       "NA5005-02_AB.svs        (14.165728038225371, 3.7053361451106395, 4.790...  "
      ]
     },
     "execution_count": 13,
     "metadata": {},
     "output_type": "execute_result"
    }
   ],
   "source": [
    "stats"
   ]
  },
  {
   "cell_type": "code",
   "execution_count": null,
   "metadata": {},
   "outputs": [],
   "source": []
  }
 ],
 "metadata": {
  "kernelspec": {
   "display_name": "Python 3",
   "language": "python",
   "name": "python3"
  },
  "language_info": {
   "codemirror_mode": {
    "name": "ipython",
    "version": 3
   },
   "file_extension": ".py",
   "mimetype": "text/x-python",
   "name": "python",
   "nbconvert_exporter": "python",
   "pygments_lexer": "ipython3",
   "version": "3.7.4"
  }
 },
 "nbformat": 4,
 "nbformat_minor": 4
}
