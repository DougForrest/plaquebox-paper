{
 "cells": [
  {
   "cell_type": "markdown",
   "metadata": {},
   "source": [
    "# Preprocessing - Data Labeling\n",
    "\n",
    "Load in the csv files prepared in notebook 1.1 and create text labels for multilabel classificaiton. \n",
    "\n",
    "### Train validaiton split\n",
    "\n",
    "To better evaluate the model performance I increased the validation set size to 20% from the original ~12.3% (8630 / 70000). Train and validation were combined in this notebook and randomly split in the subsequent notebook.\n",
    "\n",
    "### Upsampling\n",
    "\n",
    "To improve the performance of minority classes i'll try upsampling the minority classes."
   ]
  },
  {
   "cell_type": "code",
   "execution_count": 61,
   "metadata": {},
   "outputs": [],
   "source": [
    "%reload_ext autoreload\n",
    "%autoreload 2\n",
    "%matplotlib inline\n",
    "\n",
    "from fastai.vision import *\n",
    "from fastai.metrics import error_rate\n",
    "import os \n",
    "\n",
    "import config as cfg"
   ]
  },
  {
   "cell_type": "code",
   "execution_count": 62,
   "metadata": {},
   "outputs": [
    {
     "name": "stdout",
     "output_type": "stream",
     "text": [
      "loading tiles_train\n",
      "(155239, 8)\n"
     ]
    },
    {
     "data": {
      "text/html": [
       "<div>\n",
       "<style scoped>\n",
       "    .dataframe tbody tr th:only-of-type {\n",
       "        vertical-align: middle;\n",
       "    }\n",
       "\n",
       "    .dataframe tbody tr th {\n",
       "        vertical-align: top;\n",
       "    }\n",
       "\n",
       "    .dataframe thead th {\n",
       "        text-align: right;\n",
       "    }\n",
       "</style>\n",
       "<table border=\"1\" class=\"dataframe\">\n",
       "  <thead>\n",
       "    <tr style=\"text-align: right;\">\n",
       "      <th></th>\n",
       "      <th>id</th>\n",
       "      <th>imagename</th>\n",
       "      <th>cored</th>\n",
       "      <th>diffuse</th>\n",
       "      <th>CAA</th>\n",
       "      <th>negative</th>\n",
       "      <th>flag</th>\n",
       "      <th>notsure</th>\n",
       "    </tr>\n",
       "  </thead>\n",
       "  <tbody>\n",
       "    <tr>\n",
       "      <th>0</th>\n",
       "      <td>10748</td>\n",
       "      <td>NA4757-02_AB/NA4757-02_AB_18_25_61.jpg</td>\n",
       "      <td>1.0</td>\n",
       "      <td>0.000000</td>\n",
       "      <td>0.0</td>\n",
       "      <td>0.0</td>\n",
       "      <td>0.0</td>\n",
       "      <td>0.0</td>\n",
       "    </tr>\n",
       "    <tr>\n",
       "      <th>1</th>\n",
       "      <td>29503</td>\n",
       "      <td>NA4918-02_AB17-24/NA4918-02_AB17-24_9_18_12.jpg</td>\n",
       "      <td>0.0</td>\n",
       "      <td>2.832462</td>\n",
       "      <td>0.0</td>\n",
       "      <td>0.0</td>\n",
       "      <td>0.0</td>\n",
       "      <td>0.0</td>\n",
       "    </tr>\n",
       "  </tbody>\n",
       "</table>\n",
       "</div>"
      ],
      "text/plain": [
       "      id                                        imagename  cored   diffuse  \\\n",
       "0  10748           NA4757-02_AB/NA4757-02_AB_18_25_61.jpg    1.0  0.000000   \n",
       "1  29503  NA4918-02_AB17-24/NA4918-02_AB17-24_9_18_12.jpg    0.0  2.832462   \n",
       "\n",
       "   CAA  negative  flag  notsure  \n",
       "0  0.0       0.0   0.0      0.0  \n",
       "1  0.0       0.0   0.0      0.0  "
      ]
     },
     "metadata": {},
     "output_type": "display_data"
    },
    {
     "name": "stdout",
     "output_type": "stream",
     "text": [
      "loading tiles_validation\n",
      "(8630, 8)\n"
     ]
    },
    {
     "data": {
      "text/html": [
       "<div>\n",
       "<style scoped>\n",
       "    .dataframe tbody tr th:only-of-type {\n",
       "        vertical-align: middle;\n",
       "    }\n",
       "\n",
       "    .dataframe tbody tr th {\n",
       "        vertical-align: top;\n",
       "    }\n",
       "\n",
       "    .dataframe thead th {\n",
       "        text-align: right;\n",
       "    }\n",
       "</style>\n",
       "<table border=\"1\" class=\"dataframe\">\n",
       "  <thead>\n",
       "    <tr style=\"text-align: right;\">\n",
       "      <th></th>\n",
       "      <th>id</th>\n",
       "      <th>imagename</th>\n",
       "      <th>cored</th>\n",
       "      <th>diffuse</th>\n",
       "      <th>CAA</th>\n",
       "      <th>negative</th>\n",
       "      <th>flag</th>\n",
       "      <th>notsure</th>\n",
       "    </tr>\n",
       "  </thead>\n",
       "  <tbody>\n",
       "    <tr>\n",
       "      <th>0</th>\n",
       "      <td>0</td>\n",
       "      <td>NA_4896_02_AB17-24/neg_NA_4896_02_AB17-24_0_10...</td>\n",
       "      <td>0.0</td>\n",
       "      <td>0.0</td>\n",
       "      <td>0.0</td>\n",
       "      <td>1.0</td>\n",
       "      <td>0.0</td>\n",
       "      <td>0.0</td>\n",
       "    </tr>\n",
       "    <tr>\n",
       "      <th>1</th>\n",
       "      <td>0</td>\n",
       "      <td>NA_4896_02_AB17-24/neg_NA_4896_02_AB17-24_0_18...</td>\n",
       "      <td>0.0</td>\n",
       "      <td>0.0</td>\n",
       "      <td>0.0</td>\n",
       "      <td>1.0</td>\n",
       "      <td>0.0</td>\n",
       "      <td>0.0</td>\n",
       "    </tr>\n",
       "  </tbody>\n",
       "</table>\n",
       "</div>"
      ],
      "text/plain": [
       "   id                                          imagename  cored  diffuse  CAA  \\\n",
       "0   0  NA_4896_02_AB17-24/neg_NA_4896_02_AB17-24_0_10...    0.0      0.0  0.0   \n",
       "1   0  NA_4896_02_AB17-24/neg_NA_4896_02_AB17-24_0_18...    0.0      0.0  0.0   \n",
       "\n",
       "   negative  flag  notsure  \n",
       "0       1.0   0.0      0.0  \n",
       "1       1.0   0.0      0.0  "
      ]
     },
     "metadata": {},
     "output_type": "display_data"
    },
    {
     "name": "stdout",
     "output_type": "stream",
     "text": [
      "loading tiles_test\n",
      "(10873, 8)\n"
     ]
    },
    {
     "data": {
      "text/html": [
       "<div>\n",
       "<style scoped>\n",
       "    .dataframe tbody tr th:only-of-type {\n",
       "        vertical-align: middle;\n",
       "    }\n",
       "\n",
       "    .dataframe tbody tr th {\n",
       "        vertical-align: top;\n",
       "    }\n",
       "\n",
       "    .dataframe thead th {\n",
       "        text-align: right;\n",
       "    }\n",
       "</style>\n",
       "<table border=\"1\" class=\"dataframe\">\n",
       "  <thead>\n",
       "    <tr style=\"text-align: right;\">\n",
       "      <th></th>\n",
       "      <th>id</th>\n",
       "      <th>imagename</th>\n",
       "      <th>cored</th>\n",
       "      <th>diffuse</th>\n",
       "      <th>CAA</th>\n",
       "      <th>negative</th>\n",
       "      <th>flag</th>\n",
       "      <th>notsure</th>\n",
       "    </tr>\n",
       "  </thead>\n",
       "  <tbody>\n",
       "    <tr>\n",
       "      <th>0</th>\n",
       "      <td>14</td>\n",
       "      <td>NA4053-02_AB/NA4053-02_AB_18_18.jpg_0.jpg</td>\n",
       "      <td>0.0</td>\n",
       "      <td>3.003472</td>\n",
       "      <td>0.0</td>\n",
       "      <td>0.0</td>\n",
       "      <td>0.28125</td>\n",
       "      <td>1.0</td>\n",
       "    </tr>\n",
       "    <tr>\n",
       "      <th>1</th>\n",
       "      <td>15</td>\n",
       "      <td>NA4053-02_AB/NA4053-02_AB_18_18.jpg_1.jpg</td>\n",
       "      <td>0.0</td>\n",
       "      <td>5.214052</td>\n",
       "      <td>0.0</td>\n",
       "      <td>0.0</td>\n",
       "      <td>2.00000</td>\n",
       "      <td>1.0</td>\n",
       "    </tr>\n",
       "  </tbody>\n",
       "</table>\n",
       "</div>"
      ],
      "text/plain": [
       "   id                                  imagename  cored   diffuse  CAA  \\\n",
       "0  14  NA4053-02_AB/NA4053-02_AB_18_18.jpg_0.jpg    0.0  3.003472  0.0   \n",
       "1  15  NA4053-02_AB/NA4053-02_AB_18_18.jpg_1.jpg    0.0  5.214052  0.0   \n",
       "\n",
       "   negative     flag  notsure  \n",
       "0       0.0  0.28125      1.0  \n",
       "1       0.0  2.00000      1.0  "
      ]
     },
     "metadata": {},
     "output_type": "display_data"
    }
   ],
   "source": [
    "current_module = sys.modules[__name__]\n",
    "csvs = ['tiles_train', 'tiles_validation', 'tiles_test']\n",
    "for csv in csvs:\n",
    "    print('loading {}'.format(csv))\n",
    "    df_name = csv\n",
    "    setattr(current_module,\n",
    "            df_name,\n",
    "            pd.read_csv(os.path.join('data', 'CSVs', '{}.csv'.format(csv))))\n",
    "    df = getattr(current_module, df_name)\n",
    "    print(df.shape)\n",
    "    display(df.head(2))"
   ]
  },
  {
   "cell_type": "code",
   "execution_count": 63,
   "metadata": {},
   "outputs": [],
   "source": [
    "train = tiles_train[['imagename'] + cfg.image_classes].copy()\n",
    "validation = tiles_validation[['imagename'] + cfg.image_classes].copy()\n",
    "test = tiles_test[['imagename'] + cfg.image_classes].copy()"
   ]
  },
  {
   "cell_type": "markdown",
   "metadata": {},
   "source": [
    "The threshold used for labeling is the same as the original dataset. Lowering the threshold could create more observations."
   ]
  },
  {
   "cell_type": "code",
   "execution_count": 64,
   "metadata": {},
   "outputs": [],
   "source": [
    "threshold = .99\n",
    "for class_i in cfg.image_classes:\n",
    "    train[class_i] = train[class_i].map(lambda x: class_i if x > threshold else '')\n",
    "    validation[class_i] = validation[class_i].map(lambda x: class_i if x > threshold else '')\n",
    "    test[class_i] = test[class_i].map(lambda x: class_i if x > threshold else '')\n",
    "    "
   ]
  },
  {
   "cell_type": "code",
   "execution_count": 65,
   "metadata": {},
   "outputs": [],
   "source": [
    "def create_text_label(df,\n",
    "                       classes=[],\n",
    "                       label_col_name='label',\n",
    "                       negative_class_label='negative'):\n",
    "    \n",
    "    df[label_col_name] = df.apply(lambda row: ' '.join(filter(None,\n",
    "                                                               [row[class_i] for class_i in classes] \n",
    "                                                              )), axis=1)\n",
    "    \n",
    "    # remove whitespace and label absence of any classes as negative class\n",
    "    df[label_col_name] = df[label_col_name].map(lambda x: x.strip() if x.strip() else negative_class_label)\n",
    "    return(df)\n",
    "\n"
   ]
  },
  {
   "cell_type": "code",
   "execution_count": 66,
   "metadata": {},
   "outputs": [
    {
     "data": {
      "text/html": [
       "<div>\n",
       "<style scoped>\n",
       "    .dataframe tbody tr th:only-of-type {\n",
       "        vertical-align: middle;\n",
       "    }\n",
       "\n",
       "    .dataframe tbody tr th {\n",
       "        vertical-align: top;\n",
       "    }\n",
       "\n",
       "    .dataframe thead th {\n",
       "        text-align: right;\n",
       "    }\n",
       "</style>\n",
       "<table border=\"1\" class=\"dataframe\">\n",
       "  <thead>\n",
       "    <tr style=\"text-align: right;\">\n",
       "      <th></th>\n",
       "      <th>imagename</th>\n",
       "      <th>label</th>\n",
       "    </tr>\n",
       "  </thead>\n",
       "  <tbody>\n",
       "    <tr>\n",
       "      <th>0</th>\n",
       "      <td>NA4757-02_AB/NA4757-02_AB_18_25_61.jpg</td>\n",
       "      <td>cored</td>\n",
       "    </tr>\n",
       "    <tr>\n",
       "      <th>1</th>\n",
       "      <td>NA4918-02_AB17-24/NA4918-02_AB17-24_9_18_12.jpg</td>\n",
       "      <td>diffuse</td>\n",
       "    </tr>\n",
       "  </tbody>\n",
       "</table>\n",
       "</div>"
      ],
      "text/plain": [
       "                                         imagename    label\n",
       "0           NA4757-02_AB/NA4757-02_AB_18_25_61.jpg    cored\n",
       "1  NA4918-02_AB17-24/NA4918-02_AB17-24_9_18_12.jpg  diffuse"
      ]
     },
     "metadata": {},
     "output_type": "display_data"
    },
    {
     "data": {
      "text/html": [
       "<div>\n",
       "<style scoped>\n",
       "    .dataframe tbody tr th:only-of-type {\n",
       "        vertical-align: middle;\n",
       "    }\n",
       "\n",
       "    .dataframe tbody tr th {\n",
       "        vertical-align: top;\n",
       "    }\n",
       "\n",
       "    .dataframe thead th {\n",
       "        text-align: right;\n",
       "    }\n",
       "</style>\n",
       "<table border=\"1\" class=\"dataframe\">\n",
       "  <thead>\n",
       "    <tr style=\"text-align: right;\">\n",
       "      <th></th>\n",
       "      <th>imagename</th>\n",
       "      <th>label</th>\n",
       "    </tr>\n",
       "  </thead>\n",
       "  <tbody>\n",
       "    <tr>\n",
       "      <th>0</th>\n",
       "      <td>NA_4896_02_AB17-24/neg_NA_4896_02_AB17-24_0_10...</td>\n",
       "      <td>negative</td>\n",
       "    </tr>\n",
       "    <tr>\n",
       "      <th>1</th>\n",
       "      <td>NA_4896_02_AB17-24/neg_NA_4896_02_AB17-24_0_18...</td>\n",
       "      <td>negative</td>\n",
       "    </tr>\n",
       "  </tbody>\n",
       "</table>\n",
       "</div>"
      ],
      "text/plain": [
       "                                           imagename     label\n",
       "0  NA_4896_02_AB17-24/neg_NA_4896_02_AB17-24_0_10...  negative\n",
       "1  NA_4896_02_AB17-24/neg_NA_4896_02_AB17-24_0_18...  negative"
      ]
     },
     "metadata": {},
     "output_type": "display_data"
    },
    {
     "data": {
      "text/html": [
       "<div>\n",
       "<style scoped>\n",
       "    .dataframe tbody tr th:only-of-type {\n",
       "        vertical-align: middle;\n",
       "    }\n",
       "\n",
       "    .dataframe tbody tr th {\n",
       "        vertical-align: top;\n",
       "    }\n",
       "\n",
       "    .dataframe thead th {\n",
       "        text-align: right;\n",
       "    }\n",
       "</style>\n",
       "<table border=\"1\" class=\"dataframe\">\n",
       "  <thead>\n",
       "    <tr style=\"text-align: right;\">\n",
       "      <th></th>\n",
       "      <th>imagename</th>\n",
       "      <th>label</th>\n",
       "    </tr>\n",
       "  </thead>\n",
       "  <tbody>\n",
       "    <tr>\n",
       "      <th>0</th>\n",
       "      <td>NA4053-02_AB/NA4053-02_AB_18_18.jpg_0.jpg</td>\n",
       "      <td>diffuse</td>\n",
       "    </tr>\n",
       "    <tr>\n",
       "      <th>1</th>\n",
       "      <td>NA4053-02_AB/NA4053-02_AB_18_18.jpg_1.jpg</td>\n",
       "      <td>diffuse</td>\n",
       "    </tr>\n",
       "  </tbody>\n",
       "</table>\n",
       "</div>"
      ],
      "text/plain": [
       "                                   imagename    label\n",
       "0  NA4053-02_AB/NA4053-02_AB_18_18.jpg_0.jpg  diffuse\n",
       "1  NA4053-02_AB/NA4053-02_AB_18_18.jpg_1.jpg  diffuse"
      ]
     },
     "metadata": {},
     "output_type": "display_data"
    }
   ],
   "source": [
    "train = create_text_label(train,\n",
    "                          classes=cfg.image_classes,\n",
    "                          negative_class_label='negative')\n",
    "validation = create_text_label(validation,\n",
    "                               classes=cfg.image_classes,\n",
    "                               negative_class_label='negative')\n",
    "test = create_text_label(test,\n",
    "                         classes=cfg.image_classes,\n",
    "                         negative_class_label='negative')\n",
    "\n",
    "train.drop(columns=cfg.image_classes, inplace=True)\n",
    "validation.drop(columns=cfg.image_classes, inplace=True)\n",
    "test.drop(columns=cfg.image_classes, inplace=True)\n",
    "display(train.head(2))\n",
    "display(validation.head(2))\n",
    "display(test.head(2))"
   ]
  },
  {
   "cell_type": "markdown",
   "metadata": {},
   "source": [
    "## Upsample core class"
   ]
  },
  {
   "cell_type": "code",
   "execution_count": 74,
   "metadata": {},
   "outputs": [],
   "source": [
    "core_upsample = train.loc[train.label.str.contains('cored')].sample(frac=0.4)\n",
    "neg_upsample = train.loc[train.label.str.contains('negative')].sample(frac=1)\n",
    "train_upsampled = pd.concat([train, core_upsample, neg_upsample])\n",
    "\n",
    "assert (train.shape[0] + core_upsample.shape[0] + neg_upsample.shape[0]) == train_upsampled.shape[0]"
   ]
  },
  {
   "cell_type": "code",
   "execution_count": 75,
   "metadata": {},
   "outputs": [
    {
     "data": {
      "text/html": [
       "<iframe\n",
       "    scrolling=\"no\"\n",
       "    width=\"100%\"\n",
       "    height=\"545px\"\n",
       "    src=\"iframe_figures/figure_36.html\"\n",
       "    frameborder=\"0\"\n",
       "    allowfullscreen\n",
       "></iframe>\n"
      ]
     },
     "metadata": {},
     "output_type": "display_data"
    }
   ],
   "source": [
    "from plotly.subplots import make_subplots\n",
    "import plotly.graph_objects as go\n",
    "import plotly.io as pio\n",
    "pio.renderers.default = \"iframe\"\n",
    "train_unique = train.drop_duplicates(subset=['imagename'], keep='first')\n",
    "# validation_unique = validation.drop_duplicates(subset=['imagename'], keep='first')\n",
    "# test_unique = test.drop_duplicates(subset=['imagename'], keep='first')\n",
    "fig = make_subplots(rows=3, cols=1, shared_xaxes=True)\n",
    "fig.append_trace(go.Histogram(x=train_unique['label'],\n",
    "                           histnorm='percent',\n",
    "                           name='train_unique'), row=1, col=1)\n",
    "fig.add_trace(go.Histogram(x=train['label'],\n",
    "                           histnorm='percent',\n",
    "                           name='train_plaquebox-paper'), row=1, col=1)\n",
    "fig.add_trace(go.Histogram(x=train_upsampled['label'],\n",
    "                           histnorm='percent',\n",
    "                           name='train_upsampled'), row=1, col=1)\n",
    "fig.append_trace(go.Histogram(x=validation['label'],\n",
    "                           histnorm='percent',\n",
    "                           name='validation'), row=2, col=1)\n",
    "fig.append_trace(go.Histogram(x=test_unique['label'],\n",
    "                           histnorm='percent',\n",
    "                           name='test'), row=3, col=1)\n",
    "\n",
    "fig.show()"
   ]
  },
  {
   "cell_type": "code",
   "execution_count": 76,
   "metadata": {},
   "outputs": [],
   "source": [
    "train.to_csv(os.path.join(cfg.csv_dir, 'train_multilabel.csv'), index=False)\n",
    "train_upsampled.to_csv(os.path.join(cfg.csv_dir, 'train_upsampled_multilabel.csv'), index=False)\n",
    "validation.to_csv(os.path.join(cfg.csv_dir, 'validation_multilabel.csv'), index=False)\n",
    "test.to_csv(os.path.join(cfg.csv_dir, 'test_multilabel.csv'), index=False)"
   ]
  }
 ],
 "metadata": {
  "kernelspec": {
   "display_name": "Python 3",
   "language": "python",
   "name": "python3"
  },
  "language_info": {
   "codemirror_mode": {
    "name": "ipython",
    "version": 3
   },
   "file_extension": ".py",
   "mimetype": "text/x-python",
   "name": "python",
   "nbconvert_exporter": "python",
   "pygments_lexer": "ipython3",
   "version": "3.6.9"
  }
 },
 "nbformat": 4,
 "nbformat_minor": 4
}
