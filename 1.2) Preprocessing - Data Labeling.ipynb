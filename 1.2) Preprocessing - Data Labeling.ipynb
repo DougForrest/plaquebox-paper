{
 "cells": [
  {
   "cell_type": "markdown",
   "metadata": {},
   "source": [
    "# Preprocessing - Data Labeling\n",
    "\n",
    "Load in the csv files prepared in notebook 1.1 and create text labels for multilabel classificaiton. \n",
    "\n",
    "### Negative images\n",
    "\n",
    "Negatively labeled images (the absense of a label) were included in the `CSVs` files of the plaquebox paper however they were not used in the classifier. As the decision boundry between a positive label and a negative label can be close in some cases I experimented with including the negative label as a predictive class in the classifier. \n",
    "\n",
    "### Train validaiton split\n",
    "\n",
    "To better evaluate the model performance I increased the validation set size to 20% from the original ~12.3% (8630 / 70000). Train and validation were combined in this notebook and randomly split in the subsequent notebook."
   ]
  },
  {
   "cell_type": "code",
   "execution_count": 4,
   "metadata": {},
   "outputs": [],
   "source": [
    "%reload_ext autoreload\n",
    "%autoreload 2\n",
    "%matplotlib inline\n",
    "\n",
    "from fastai.vision import *\n",
    "from fastai.metrics import error_rate\n",
    "import os "
   ]
  },
  {
   "cell_type": "code",
   "execution_count": 5,
   "metadata": {},
   "outputs": [],
   "source": [
    "batch_size = 64\n",
    "\n",
    "data_dir = os.path.join('/mnt', 'disks', 'disk-1', 'data')\n",
    "csv_dir = os.path.join('data', 'CSVs')\n",
    "models_dir = os.path.join(data_dir, 'models')\n",
    "csv_path = {\n",
    "    'train': os.path.join(csv_dir, 'tiles_train.csv'),\n",
    "    'validation': os.path.join(csv_dir, 'tiles_validation.csv'),\n",
    "    'test': os.path.join(csv_dir, 'tiles_test.csv'),\n",
    "}\n",
    "\n",
    "img_path = os.path.join(data_dir,\n",
    "                        'tiles')\n",
    "\n",
    "img_path_test = os.path.join(data_dir,\n",
    "                        'tiles', 'tiles')\n",
    "image_classes = ['cored', 'diffuse', 'CAA']"
   ]
  },
  {
   "cell_type": "code",
   "execution_count": 6,
   "metadata": {},
   "outputs": [
    {
     "name": "stdout",
     "output_type": "stream",
     "text": [
      "loading tiles_train\n",
      "(155239, 8)\n"
     ]
    },
    {
     "data": {
      "text/html": [
       "<div>\n",
       "<style scoped>\n",
       "    .dataframe tbody tr th:only-of-type {\n",
       "        vertical-align: middle;\n",
       "    }\n",
       "\n",
       "    .dataframe tbody tr th {\n",
       "        vertical-align: top;\n",
       "    }\n",
       "\n",
       "    .dataframe thead th {\n",
       "        text-align: right;\n",
       "    }\n",
       "</style>\n",
       "<table border=\"1\" class=\"dataframe\">\n",
       "  <thead>\n",
       "    <tr style=\"text-align: right;\">\n",
       "      <th></th>\n",
       "      <th>id</th>\n",
       "      <th>imagename</th>\n",
       "      <th>cored</th>\n",
       "      <th>diffuse</th>\n",
       "      <th>CAA</th>\n",
       "      <th>negative</th>\n",
       "      <th>flag</th>\n",
       "      <th>notsure</th>\n",
       "    </tr>\n",
       "  </thead>\n",
       "  <tbody>\n",
       "    <tr>\n",
       "      <th>0</th>\n",
       "      <td>10748</td>\n",
       "      <td>NA4757-02_AB/NA4757-02_AB_18_25_61.jpg</td>\n",
       "      <td>1.0</td>\n",
       "      <td>0.000000</td>\n",
       "      <td>0.0</td>\n",
       "      <td>0.0</td>\n",
       "      <td>0.0</td>\n",
       "      <td>0.0</td>\n",
       "    </tr>\n",
       "    <tr>\n",
       "      <th>1</th>\n",
       "      <td>29503</td>\n",
       "      <td>NA4918-02_AB17-24/NA4918-02_AB17-24_9_18_12.jpg</td>\n",
       "      <td>0.0</td>\n",
       "      <td>2.832462</td>\n",
       "      <td>0.0</td>\n",
       "      <td>0.0</td>\n",
       "      <td>0.0</td>\n",
       "      <td>0.0</td>\n",
       "    </tr>\n",
       "  </tbody>\n",
       "</table>\n",
       "</div>"
      ],
      "text/plain": [
       "      id                                        imagename  cored   diffuse  \\\n",
       "0  10748           NA4757-02_AB/NA4757-02_AB_18_25_61.jpg    1.0  0.000000   \n",
       "1  29503  NA4918-02_AB17-24/NA4918-02_AB17-24_9_18_12.jpg    0.0  2.832462   \n",
       "\n",
       "   CAA  negative  flag  notsure  \n",
       "0  0.0       0.0   0.0      0.0  \n",
       "1  0.0       0.0   0.0      0.0  "
      ]
     },
     "metadata": {},
     "output_type": "display_data"
    },
    {
     "name": "stdout",
     "output_type": "stream",
     "text": [
      "loading tiles_validation\n",
      "(8630, 8)\n"
     ]
    },
    {
     "data": {
      "text/html": [
       "<div>\n",
       "<style scoped>\n",
       "    .dataframe tbody tr th:only-of-type {\n",
       "        vertical-align: middle;\n",
       "    }\n",
       "\n",
       "    .dataframe tbody tr th {\n",
       "        vertical-align: top;\n",
       "    }\n",
       "\n",
       "    .dataframe thead th {\n",
       "        text-align: right;\n",
       "    }\n",
       "</style>\n",
       "<table border=\"1\" class=\"dataframe\">\n",
       "  <thead>\n",
       "    <tr style=\"text-align: right;\">\n",
       "      <th></th>\n",
       "      <th>id</th>\n",
       "      <th>imagename</th>\n",
       "      <th>cored</th>\n",
       "      <th>diffuse</th>\n",
       "      <th>CAA</th>\n",
       "      <th>negative</th>\n",
       "      <th>flag</th>\n",
       "      <th>notsure</th>\n",
       "    </tr>\n",
       "  </thead>\n",
       "  <tbody>\n",
       "    <tr>\n",
       "      <th>0</th>\n",
       "      <td>0</td>\n",
       "      <td>NA_4896_02_AB17-24/neg_NA_4896_02_AB17-24_0_10...</td>\n",
       "      <td>0.0</td>\n",
       "      <td>0.0</td>\n",
       "      <td>0.0</td>\n",
       "      <td>1.0</td>\n",
       "      <td>0.0</td>\n",
       "      <td>0.0</td>\n",
       "    </tr>\n",
       "    <tr>\n",
       "      <th>1</th>\n",
       "      <td>0</td>\n",
       "      <td>NA_4896_02_AB17-24/neg_NA_4896_02_AB17-24_0_18...</td>\n",
       "      <td>0.0</td>\n",
       "      <td>0.0</td>\n",
       "      <td>0.0</td>\n",
       "      <td>1.0</td>\n",
       "      <td>0.0</td>\n",
       "      <td>0.0</td>\n",
       "    </tr>\n",
       "  </tbody>\n",
       "</table>\n",
       "</div>"
      ],
      "text/plain": [
       "   id                                          imagename  cored  diffuse  CAA  \\\n",
       "0   0  NA_4896_02_AB17-24/neg_NA_4896_02_AB17-24_0_10...    0.0      0.0  0.0   \n",
       "1   0  NA_4896_02_AB17-24/neg_NA_4896_02_AB17-24_0_18...    0.0      0.0  0.0   \n",
       "\n",
       "   negative  flag  notsure  \n",
       "0       1.0   0.0      0.0  \n",
       "1       1.0   0.0      0.0  "
      ]
     },
     "metadata": {},
     "output_type": "display_data"
    },
    {
     "name": "stdout",
     "output_type": "stream",
     "text": [
      "loading tiles_test\n",
      "(10873, 8)\n"
     ]
    },
    {
     "data": {
      "text/html": [
       "<div>\n",
       "<style scoped>\n",
       "    .dataframe tbody tr th:only-of-type {\n",
       "        vertical-align: middle;\n",
       "    }\n",
       "\n",
       "    .dataframe tbody tr th {\n",
       "        vertical-align: top;\n",
       "    }\n",
       "\n",
       "    .dataframe thead th {\n",
       "        text-align: right;\n",
       "    }\n",
       "</style>\n",
       "<table border=\"1\" class=\"dataframe\">\n",
       "  <thead>\n",
       "    <tr style=\"text-align: right;\">\n",
       "      <th></th>\n",
       "      <th>id</th>\n",
       "      <th>imagename</th>\n",
       "      <th>cored</th>\n",
       "      <th>diffuse</th>\n",
       "      <th>CAA</th>\n",
       "      <th>negative</th>\n",
       "      <th>flag</th>\n",
       "      <th>notsure</th>\n",
       "    </tr>\n",
       "  </thead>\n",
       "  <tbody>\n",
       "    <tr>\n",
       "      <th>0</th>\n",
       "      <td>14</td>\n",
       "      <td>NA4053-02_AB/NA4053-02_AB_18_18.jpg_0.jpg</td>\n",
       "      <td>0.0</td>\n",
       "      <td>3.003472</td>\n",
       "      <td>0.0</td>\n",
       "      <td>0.0</td>\n",
       "      <td>0.28125</td>\n",
       "      <td>1.0</td>\n",
       "    </tr>\n",
       "    <tr>\n",
       "      <th>1</th>\n",
       "      <td>15</td>\n",
       "      <td>NA4053-02_AB/NA4053-02_AB_18_18.jpg_1.jpg</td>\n",
       "      <td>0.0</td>\n",
       "      <td>5.214052</td>\n",
       "      <td>0.0</td>\n",
       "      <td>0.0</td>\n",
       "      <td>2.00000</td>\n",
       "      <td>1.0</td>\n",
       "    </tr>\n",
       "  </tbody>\n",
       "</table>\n",
       "</div>"
      ],
      "text/plain": [
       "   id                                  imagename  cored   diffuse  CAA  \\\n",
       "0  14  NA4053-02_AB/NA4053-02_AB_18_18.jpg_0.jpg    0.0  3.003472  0.0   \n",
       "1  15  NA4053-02_AB/NA4053-02_AB_18_18.jpg_1.jpg    0.0  5.214052  0.0   \n",
       "\n",
       "   negative     flag  notsure  \n",
       "0       0.0  0.28125      1.0  \n",
       "1       0.0  2.00000      1.0  "
      ]
     },
     "metadata": {},
     "output_type": "display_data"
    }
   ],
   "source": [
    "current_module = sys.modules[__name__]\n",
    "csvs = ['tiles_train', 'tiles_validation', 'tiles_test']\n",
    "for csv in csvs:\n",
    "    print('loading {}'.format(csv))\n",
    "    df_name = csv\n",
    "    setattr(current_module,\n",
    "            df_name,\n",
    "            pd.read_csv(os.path.join('data', 'CSVs', '{}.csv'.format(csv))))\n",
    "    df = getattr(current_module, df_name)\n",
    "    print(df.shape)\n",
    "    display(df.head(2))"
   ]
  },
  {
   "cell_type": "code",
   "execution_count": 7,
   "metadata": {},
   "outputs": [],
   "source": [
    "train_n_validation = pd.concat([tiles_train, tiles_validation])[['imagename'] + image_classes]  \n",
    "assert train_n_validation.shape[0] == (tiles_train.shape[0] + tiles_validation.shape[0])\n",
    "test = tiles_test[['imagename'] + image_classes].copy()"
   ]
  },
  {
   "cell_type": "markdown",
   "metadata": {},
   "source": [
    "The threshold used for labeling is the same as the original dataset. Lowering the threshold could create more observations."
   ]
  },
  {
   "cell_type": "code",
   "execution_count": 8,
   "metadata": {},
   "outputs": [],
   "source": [
    "threshold = .99\n",
    "for class_i in image_classes:\n",
    "    train_n_validation[class_i] = train_n_validation[class_i].map(lambda x: class_i if x > threshold else '')\n",
    "    test[class_i] = test[class_i].map(lambda x: class_i if x > threshold else '')\n",
    "    "
   ]
  },
  {
   "cell_type": "code",
   "execution_count": 9,
   "metadata": {},
   "outputs": [
    {
     "data": {
      "text/html": [
       "<div>\n",
       "<style scoped>\n",
       "    .dataframe tbody tr th:only-of-type {\n",
       "        vertical-align: middle;\n",
       "    }\n",
       "\n",
       "    .dataframe tbody tr th {\n",
       "        vertical-align: top;\n",
       "    }\n",
       "\n",
       "    .dataframe thead th {\n",
       "        text-align: right;\n",
       "    }\n",
       "</style>\n",
       "<table border=\"1\" class=\"dataframe\">\n",
       "  <thead>\n",
       "    <tr style=\"text-align: right;\">\n",
       "      <th></th>\n",
       "      <th>imagename</th>\n",
       "      <th>label</th>\n",
       "    </tr>\n",
       "  </thead>\n",
       "  <tbody>\n",
       "    <tr>\n",
       "      <th>0</th>\n",
       "      <td>NA4757-02_AB/NA4757-02_AB_18_25_61.jpg</td>\n",
       "      <td>cored</td>\n",
       "    </tr>\n",
       "    <tr>\n",
       "      <th>1</th>\n",
       "      <td>NA4918-02_AB17-24/NA4918-02_AB17-24_9_18_12.jpg</td>\n",
       "      <td>diffuse</td>\n",
       "    </tr>\n",
       "  </tbody>\n",
       "</table>\n",
       "</div>"
      ],
      "text/plain": [
       "                                         imagename    label\n",
       "0           NA4757-02_AB/NA4757-02_AB_18_25_61.jpg    cored\n",
       "1  NA4918-02_AB17-24/NA4918-02_AB17-24_9_18_12.jpg  diffuse"
      ]
     },
     "metadata": {},
     "output_type": "display_data"
    },
    {
     "data": {
      "text/html": [
       "<div>\n",
       "<style scoped>\n",
       "    .dataframe tbody tr th:only-of-type {\n",
       "        vertical-align: middle;\n",
       "    }\n",
       "\n",
       "    .dataframe tbody tr th {\n",
       "        vertical-align: top;\n",
       "    }\n",
       "\n",
       "    .dataframe thead th {\n",
       "        text-align: right;\n",
       "    }\n",
       "</style>\n",
       "<table border=\"1\" class=\"dataframe\">\n",
       "  <thead>\n",
       "    <tr style=\"text-align: right;\">\n",
       "      <th></th>\n",
       "      <th>imagename</th>\n",
       "      <th>label</th>\n",
       "    </tr>\n",
       "  </thead>\n",
       "  <tbody>\n",
       "    <tr>\n",
       "      <th>0</th>\n",
       "      <td>NA4053-02_AB/NA4053-02_AB_18_18.jpg_0.jpg</td>\n",
       "      <td>diffuse</td>\n",
       "    </tr>\n",
       "    <tr>\n",
       "      <th>1</th>\n",
       "      <td>NA4053-02_AB/NA4053-02_AB_18_18.jpg_1.jpg</td>\n",
       "      <td>diffuse</td>\n",
       "    </tr>\n",
       "  </tbody>\n",
       "</table>\n",
       "</div>"
      ],
      "text/plain": [
       "                                   imagename    label\n",
       "0  NA4053-02_AB/NA4053-02_AB_18_18.jpg_0.jpg  diffuse\n",
       "1  NA4053-02_AB/NA4053-02_AB_18_18.jpg_1.jpg  diffuse"
      ]
     },
     "metadata": {},
     "output_type": "display_data"
    }
   ],
   "source": [
    "def create_text_label(df,\n",
    "                       classes=[],\n",
    "                       label_col_name='label',\n",
    "                       negative_class_label='negative'):\n",
    "    \n",
    "    df[label_col_name] = df.apply(lambda row: ' '.join(filter(None,\n",
    "                                                               [row[class_i] for class_i in classes] \n",
    "                                                              )), axis=1)\n",
    "    \n",
    "    # remove whitespace and label absence of any classes as negative class\n",
    "    df[label_col_name] = df[label_col_name].map(lambda x: x.strip() if x.strip() else negative_class_label)\n",
    "    return(df)\n",
    "\n",
    "train_n_validation = create_text_label(train_n_validation, classes=image_classes)\n",
    "test = create_text_label(test, classes=image_classes)\n",
    "train_n_validation.drop(columns=image_classes, inplace=True)\n",
    "test.drop(columns=image_classes, inplace=True)\n",
    "display(train_n_validation.head(2))\n",
    "display(test.head(2))"
   ]
  },
  {
   "cell_type": "code",
   "execution_count": 15,
   "metadata": {},
   "outputs": [
    {
     "data": {
      "text/html": [
       "<iframe\n",
       "    scrolling=\"no\"\n",
       "    width=\"100%\"\n",
       "    height=\"545px\"\n",
       "    src=\"iframe_figures/figure_15.html\"\n",
       "    frameborder=\"0\"\n",
       "    allowfullscreen\n",
       "></iframe>\n"
      ]
     },
     "metadata": {},
     "output_type": "display_data"
    }
   ],
   "source": [
    "from plotly.subplots import make_subplots\n",
    "import plotly.graph_objects as go\n",
    "import plotly.io as pio\n",
    "pio.renderers.default = \"iframe\"\n",
    "\n",
    "fig = make_subplots(rows=2, cols=1, shared_xaxes=True)\n",
    "fig.append_trace(go.Histogram(x=train_n_validation['label'],\n",
    "                           histnorm='percent',\n",
    "                           name='train'), row=1, col=1)\n",
    "fig.append_trace(go.Histogram(x=test['label'],\n",
    "                           histnorm='percent',\n",
    "                           name='test'), row=2, col=1)\n",
    "\n",
    "fig.show()"
   ]
  },
  {
   "cell_type": "code",
   "execution_count": 11,
   "metadata": {},
   "outputs": [],
   "source": [
    "test.to_csv(os.path.join(csv_dir, 'test_multilabel.csv'), index=False)\n",
    "train_n_validation.to_csv(os.path.join(csv_dir, 'train_n_validation_multilabel.csv'), index=False)"
   ]
  },
  {
   "cell_type": "code",
   "execution_count": null,
   "metadata": {},
   "outputs": [],
   "source": []
  }
 ],
 "metadata": {
  "kernelspec": {
   "display_name": "Python 3",
   "language": "python",
   "name": "python3"
  },
  "language_info": {
   "codemirror_mode": {
    "name": "ipython",
    "version": 3
   },
   "file_extension": ".py",
   "mimetype": "text/x-python",
   "name": "python",
   "nbconvert_exporter": "python",
   "pygments_lexer": "ipython3",
   "version": "3.7.4"
  }
 },
 "nbformat": 4,
 "nbformat_minor": 4
}
